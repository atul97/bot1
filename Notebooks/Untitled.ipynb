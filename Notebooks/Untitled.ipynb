{
 "cells": [
  {
   "cell_type": "markdown",
   "id": "7e5bb357",
   "metadata": {},
   "source": [
    "# Automate Files"
   ]
  },
  {
   "cell_type": "markdown",
   "id": "edbda1e3",
   "metadata": {},
   "source": [
    "## nlu.yml"
   ]
  },
  {
   "cell_type": "code",
   "execution_count": 24,
   "id": "b744045b",
   "metadata": {},
   "outputs": [],
   "source": [
    "import pandas as pd\n",
    "\n",
    "def extract_intent_examples(df):\n",
    "    last_intent=\"\"\n",
    "    dic={}\n",
    "    for ind in df.index:\n",
    "         if(df.intent[ind].strip()==last_intent):\n",
    "            dic[last_intent].append(df.examples[ind].strip())\n",
    "         else:\n",
    "            last_intent=df.intent[ind].strip()\n",
    "            dic[last_intent]=[df.examples[ind].strip()]\n",
    "    print(dic)\n",
    "    return dic"
   ]
  },
  {
   "cell_type": "code",
   "execution_count": 25,
   "id": "28bfd317",
   "metadata": {},
   "outputs": [],
   "source": [
    "def write_nlu(source_dict,target_file_src):\n",
    "    target_file = open(target_file_src,\"w\")\n",
    "    output = [\"version: \\\"2.0\\\" \\n \\nnlu: \\n\"]\n",
    "    s=\"\"\n",
    "    for i in source_dict:\n",
    "        s+=\"- intent: \"+i+\"\\n\"+\"  examples: |\\n\"\n",
    "        li_int_exmpl = source_dict[i]\n",
    "        for j in li_int_exmpl:\n",
    "            s+=\"    - \"+j+\"\\n\"\n",
    "        s+=\"\\n\"\n",
    "    output.append(s)\n",
    "    target_file.writelines(output)\n",
    "    target_file.close()"
   ]
  },
  {
   "cell_type": "code",
   "execution_count": null,
   "id": "a254a8a4",
   "metadata": {},
   "outputs": [],
   "source": [
    "df = pd.read_csv('nlu.csv')\n",
    "dic_intent_example=extract_intent_examples(df)\n",
    "nlu_file= \"nlu.yml\"\n",
    "write_nlu(dic_intent_example,nlu_file)"
   ]
  },
  {
   "cell_type": "markdown",
   "id": "a1e30388",
   "metadata": {},
   "source": [
    "## Read nlu.yml file and change to excel"
   ]
  },
  {
   "cell_type": "code",
   "execution_count": 79,
   "id": "d9a9a03b",
   "metadata": {},
   "outputs": [],
   "source": [
    "nlu_file= \"nlu.yml\"\n",
    "src_nlu_file = open(nlu_file,\"r\")\n",
    "intent = \"\"\n",
    "intent_flg = 0\n",
    "list_intent = []\n",
    "list_example = []\n",
    "output_csv = open('csvfile.csv','w')\n",
    "output_csv.write('intent,examples\\n')\n",
    "with open(nlu_file,\"r\") as file:\n",
    "    for line in file:\n",
    "        if \"intent\" in line:\n",
    "            intent = line.split(\":\")[1].strip()\n",
    "            intent_flg = 1\n",
    "        elif intent_flg == 1 and \"-\" in line:\n",
    "            intent_example = line.split(\"- \")[1].rstrip(\"\\n\")\n",
    "            \n",
    "            output_csv.write(f'{intent},{intent_example}\\n')\n",
    "            \n",
    "output_csv.close()\n",
    "\n",
    "            "
   ]
  },
  {
   "cell_type": "code",
   "execution_count": 78,
   "id": "dafc3297",
   "metadata": {},
   "outputs": [
    {
     "data": {
      "text/plain": [
       "[]"
      ]
     },
     "execution_count": 78,
     "metadata": {},
     "output_type": "execute_result"
    }
   ],
   "source": [
    "list_intent"
   ]
  },
  {
   "cell_type": "code",
   "execution_count": 59,
   "id": "a9db4479",
   "metadata": {},
   "outputs": [],
   "source": [
    "df2 = pd.DataFrame(list(zip(list_intent,list_example)),columns=['intent','example'],index=None)"
   ]
  },
  {
   "cell_type": "code",
   "execution_count": 60,
   "id": "6809fe69",
   "metadata": {},
   "outputs": [],
   "source": [
    "df2.to_excel(\"nlu2.xlsx\")"
   ]
  },
  {
   "cell_type": "code",
   "execution_count": null,
   "id": "2c4b8daf",
   "metadata": {},
   "outputs": [
    {
     "ename": "",
     "evalue": "",
     "output_type": "error",
     "traceback": [
      "\u001b[1;31mRunning cells with 'Python 3.8.5 64-bit' requires ipykernel package.\n",
      "Run the following command to install 'ipykernel' into the Python environment. \n",
      "Command: 'c:/Users/atul.aggarwal/AppData/Local/Programs/Python/Python38/python.exe -m pip install ipykernel -U --user --force-reinstall'"
     ]
    }
   ],
   "source": [
    "import pandas as pd"
   ]
  },
  {
   "cell_type": "code",
   "execution_count": null,
   "id": "d43bddfa",
   "metadata": {},
   "outputs": [],
   "source": []
  }
 ],
 "metadata": {
  "kernelspec": {
   "display_name": "Python 3.8.5 64-bit",
   "language": "python",
   "name": "python3"
  },
  "language_info": {
   "codemirror_mode": {
    "name": "ipython",
    "version": 3
   },
   "file_extension": ".py",
   "mimetype": "text/x-python",
   "name": "python",
   "nbconvert_exporter": "python",
   "pygments_lexer": "ipython3",
   "version": "3.8.5"
  },
  "vscode": {
   "interpreter": {
    "hash": "ea898184652b46cfb8d9160141598f8ec545d98c2cb324b3db56ceb52a04f4c4"
   }
  }
 },
 "nbformat": 4,
 "nbformat_minor": 5
}
